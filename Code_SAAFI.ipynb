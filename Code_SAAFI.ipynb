{
  "nbformat": 4,
  "nbformat_minor": 0,
  "metadata": {
    "colab": {
      "provenance": []
    },
    "kernelspec": {
      "name": "python3",
      "display_name": "Python 3"
    },
    "language_info": {
      "name": "python"
    }
  },
  "cells": [
    {
      "cell_type": "code",
      "source": [
        "import os\n",
        "import openpyxl\n",
        "import requests"
      ],
      "metadata": {
        "id": "xlNiCPqbAfkm"
      },
      "execution_count": null,
      "outputs": []
    },
    {
      "cell_type": "code",
      "execution_count": null,
      "metadata": {
        "id": "yrnEU77tAKV-"
      },
      "outputs": [],
      "source": [
        "#La fonction pour télécharger les fichiers\n",
        "def url_response(url):\n",
        "\n",
        "    path, url = url\n",
        "\n",
        "    if(url != None):\n",
        "        r = requests.get(url, stream = True)\n",
        "        with open(path, 'wb') as f:\n",
        "            for ch in r:\n",
        "                f.write(ch)\n",
        "\n",
        "\n",
        "#Il faut mettre le path de tes fichiers en question (laisse le r)\n",
        "\n",
        "RESULT_LOCATION=r\"\" #Tu mets ici le chemin de ton bureau\n",
        "DATA = r\"\"  #Tu mets ici le chemin de ton fichier des ventes\n",
        "\n",
        "workbook = openpyxl.load_workbook(DATA)\n",
        "sheet = workbook['Sheet']\n",
        "sheet_obj= workbook.active\n",
        "m_row = sheet_obj.max_row\n",
        "\n",
        "#Ce code permet de nommer les fichiers résultants à partir des deux colonnes nom/prénom\n",
        "\n",
        "column_values = [(cell.value for col in sheet.iter_cols(\n",
        "    min_row=2, max_row=None, min_col=3, max_col=3) for cell in col), (cell.value for col in sheet.iter_cols(\n",
        "    min_row=2, max_row=None, min_col=4, max_col=4) for cell in col), (cell.value for col in sheet.iter_cols(\n",
        "    min_row=2, max_row=None, min_col=1, max_col=1) for cell in col)]\n",
        "\n",
        "column_1 = column_values[0]\n",
        "column_2 = column_values[1]\n",
        "column_0 = column_values[2]\n",
        "\n",
        "result = (\"{}_{}_{}\".format(x, y, z) for x, y, z in zip(column_0, column_1, column_2))\n",
        "\n",
        "k=2\n",
        "\n",
        "#Pour les créer dans ton bureau\n",
        "\n",
        "for value in result :\n",
        "    folderName = value\n",
        "    baseDir = RESULT_LOCATION\n",
        "    os.makedirs(os.path.join(baseDir, folderName))\n",
        "    print(\"Dossier crée:\", folderName)\n",
        "    for i in range(k, m_row+1):\n",
        "        url_list=list()\n",
        "        for j in range(25, 30):\n",
        "            cell_obj = sheet_obj.cell(row=i, column = j)\n",
        "            if(j == 25):\n",
        "                nom = \"BA\"\n",
        "            if(j == 26):\n",
        "                nom = \"SEPA\"\n",
        "            if(j == 27):\n",
        "                nom = \"RIB\"\n",
        "            if(j == 28):\n",
        "                nom = \"Pièce ID1_\"\n",
        "            if (j == 29):\n",
        "                nom = \"Pièce ID2_\"\n",
        "\n",
        "            url_list.append([os.path.join((os.path.join(RESULT_LOCATION, folderName)), nom+str(i)) ,cell_obj.value])\n",
        "\n",
        "            for x in url_list:\n",
        "                    url_response (x)\n",
        "\n",
        "        k = k+1\n",
        "        break"
      ]
    }
  ]
}